{
 "cells": [
  {
   "cell_type": "code",
   "execution_count": 1,
   "id": "317ed385-26c4-4f6c-adba-4425d605ebe4",
   "metadata": {},
   "outputs": [],
   "source": [
    "from manual_log_reg import ManualLogisticRegression\n",
    "import pandas as pd\n",
    "import numpy as np\n",
    "from sklearn.model_selection import train_test_split\n",
    "from sklearn.preprocessing import StandardScaler\n",
    "from sklearn.metrics import roc_auc_score"
   ]
  },
  {
   "cell_type": "code",
   "execution_count": 2,
   "id": "08388093-a65b-4d49-a555-632a0c6d272c",
   "metadata": {},
   "outputs": [
    {
     "data": {
      "text/plain": "         Age  Systolic_BP  Diastolic_BP  Cholesterol\n0  77.196340    85.288742     80.021878    79.957109\n1  63.529850    99.379736     84.852361   110.382411\n2  69.003986   111.349455    109.850616   100.828246\n3  82.638210    95.056128     79.666851    87.066303\n4  78.346286   109.154591     90.713220    92.511770",
      "text/html": "<div>\n<style scoped>\n    .dataframe tbody tr th:only-of-type {\n        vertical-align: middle;\n    }\n\n    .dataframe tbody tr th {\n        vertical-align: top;\n    }\n\n    .dataframe thead th {\n        text-align: right;\n    }\n</style>\n<table border=\"1\" class=\"dataframe\">\n  <thead>\n    <tr style=\"text-align: right;\">\n      <th></th>\n      <th>Age</th>\n      <th>Systolic_BP</th>\n      <th>Diastolic_BP</th>\n      <th>Cholesterol</th>\n    </tr>\n  </thead>\n  <tbody>\n    <tr>\n      <th>0</th>\n      <td>77.196340</td>\n      <td>85.288742</td>\n      <td>80.021878</td>\n      <td>79.957109</td>\n    </tr>\n    <tr>\n      <th>1</th>\n      <td>63.529850</td>\n      <td>99.379736</td>\n      <td>84.852361</td>\n      <td>110.382411</td>\n    </tr>\n    <tr>\n      <th>2</th>\n      <td>69.003986</td>\n      <td>111.349455</td>\n      <td>109.850616</td>\n      <td>100.828246</td>\n    </tr>\n    <tr>\n      <th>3</th>\n      <td>82.638210</td>\n      <td>95.056128</td>\n      <td>79.666851</td>\n      <td>87.066303</td>\n    </tr>\n    <tr>\n      <th>4</th>\n      <td>78.346286</td>\n      <td>109.154591</td>\n      <td>90.713220</td>\n      <td>92.511770</td>\n    </tr>\n  </tbody>\n</table>\n</div>"
     },
     "execution_count": 2,
     "metadata": {},
     "output_type": "execute_result"
    }
   ],
   "source": [
    "X = pd.read_csv('X_data.csv')\n",
    "X.drop(columns=X.columns[0], axis=1, inplace=True)\n",
    "X.head()"
   ]
  },
  {
   "cell_type": "code",
   "execution_count": 3,
   "id": "50010f83-4787-400c-87dc-a14c40f53b40",
   "metadata": {},
   "outputs": [
    {
     "data": {
      "text/plain": "     y\n0  1.0\n1  1.0\n2  1.0\n3  1.0\n4  1.0",
      "text/html": "<div>\n<style scoped>\n    .dataframe tbody tr th:only-of-type {\n        vertical-align: middle;\n    }\n\n    .dataframe tbody tr th {\n        vertical-align: top;\n    }\n\n    .dataframe thead th {\n        text-align: right;\n    }\n</style>\n<table border=\"1\" class=\"dataframe\">\n  <thead>\n    <tr style=\"text-align: right;\">\n      <th></th>\n      <th>y</th>\n    </tr>\n  </thead>\n  <tbody>\n    <tr>\n      <th>0</th>\n      <td>1.0</td>\n    </tr>\n    <tr>\n      <th>1</th>\n      <td>1.0</td>\n    </tr>\n    <tr>\n      <th>2</th>\n      <td>1.0</td>\n    </tr>\n    <tr>\n      <th>3</th>\n      <td>1.0</td>\n    </tr>\n    <tr>\n      <th>4</th>\n      <td>1.0</td>\n    </tr>\n  </tbody>\n</table>\n</div>"
     },
     "execution_count": 3,
     "metadata": {},
     "output_type": "execute_result"
    }
   ],
   "source": [
    "y = pd.read_csv('y_data.csv')  # read and convert to numpy\n",
    "y.drop(columns=y.columns[0], axis=1, inplace=True)\n",
    "y.head()"
   ]
  },
  {
   "cell_type": "code",
   "execution_count": 4,
   "id": "519dd691-2aae-4c9b-b04d-beca8df2e48e",
   "metadata": {},
   "outputs": [],
   "source": [
    "X = X.values  # convert to numpy\n",
    "y = y.values.astype(int).flatten()  # convert to numpy integers and flatten\n",
    "X = np.concatenate((np.ones((len(y), 1)), X), axis=1) # add bias term"
   ]
  },
  {
   "cell_type": "code",
   "execution_count": 5,
   "id": "df919648-712c-4f56-af15-377235597f25",
   "metadata": {},
   "outputs": [],
   "source": [
    "X_train, X_test, y_train, y_test = train_test_split(X, y, test_size=0.2, random_state=336546)"
   ]
  },
  {
   "cell_type": "markdown",
   "id": "f773eb0f-870d-42c3-8b05-4367853b4191",
   "metadata": {},
   "source": [
    "Implement the functions in manual_log_reg.py and train *log_reg* below. Use the *plot* flag in order to show reasonable learning (decrease of the training loss as a function of the iterations). Don't forget to make minor preprocessing so that gradient descent will be stable."
   ]
  },
  {
   "cell_type": "code",
   "execution_count": 6,
   "id": "d62639cc-dbfb-4b44-9617-bccc47169911",
   "metadata": {},
   "outputs": [],
   "source": [
    "log_reg = ManualLogisticRegression()"
   ]
  },
  {
   "cell_type": "code",
   "execution_count": 7,
   "id": "4a7f730a-7c31-4c2d-b37c-3f4e4f839d68",
   "metadata": {},
   "outputs": [
    {
     "data": {
      "text/plain": "<Figure size 640x480 with 1 Axes>",
      "image/png": "[encoded data removed]"
     },
     "metadata": {},
     "output_type": "display_data"
    }
   ],
   "source": [
    "# ------------------------ IMPLEMENT YOUR CODE HERE: ----------------------------------\n",
    "scaler = StandardScaler()\n",
    "X_train_scaled = scaler.fit_transform(X_train)\n",
    "#bias column turned into zeros when scaled,so we restore it back to ones (instead of scaling the original data and then concatenate the bias)\n",
    "X_train_scaled[:,0] +=1\n",
    "X_test_scaled = scaler.transform(X_test)\n",
    "X_test_scaled[:,0] +=1\n",
    "log_reg.fit(X_train_scaled,y_train,plot=True)\n",
    "y_pred = log_reg.predict(X_test_scaled)\n",
    "y_pred_proba_test =log_reg.predict_proba(X_test_scaled)\n",
    "# --------------------------------------------------------------------------------------"
   ]
  },
  {
   "cell_type": "code",
   "execution_count": 8,
   "outputs": [
    {
     "data": {
      "text/plain": "array([[ 1.        , -0.85133875,  0.52308822,  0.63625122,  1.34010554],\n       [ 1.        ,  0.31623144,  0.30614048,  1.23852106,  0.5128795 ],\n       [ 1.        ,  2.70907073, -0.04337657,  1.32125121,  0.21818419],\n       [ 1.        , -1.37778548, -0.94216486,  0.65218848,  0.07371466],\n       [ 1.        ,  0.14987366, -0.33195355, -0.3133828 , -0.34722949]])"
     },
     "execution_count": 8,
     "metadata": {},
     "output_type": "execute_result"
    }
   ],
   "source": [
    "# checking bias column\n",
    "X_train_scaled[:5,:]"
   ],
   "metadata": {
    "collapsed": false
   }
  },
  {
   "cell_type": "code",
   "execution_count": 9,
   "outputs": [
    {
     "data": {
      "text/plain": "array([[443., 141.],\n       [166., 450.]])"
     },
     "execution_count": 9,
     "metadata": {},
     "output_type": "execute_result"
    }
   ],
   "source": [
    "log_reg.conf_matrix(X_test_scaled,y_test)"
   ],
   "metadata": {
    "collapsed": false
   }
  },
  {
   "cell_type": "code",
   "execution_count": 10,
   "outputs": [
    {
     "name": "stdout",
     "output_type": "stream",
     "text": [
      "ManualLogisticRegression VS scikit learn LogisticRegression: 99.25% same predictions \n"
     ]
    }
   ],
   "source": [
    "from sklearn.linear_model import LogisticRegression\n",
    "real_logreg=LogisticRegression()\n",
    "real_logreg.fit(X_train_scaled,y_train)\n",
    "y_pred_real=real_logreg.predict(X_test_scaled)\n",
    "my_pred = log_reg.predict(X_test_scaled)\n",
    "like_original_logreg=my_pred[my_pred==y_pred_real]\n",
    "print(f'ManualLogisticRegression VS scikit learn LogisticRegression: {len(like_original_logreg) / len(y_pred_real) * 100:.2f}% same predictions ')"
   ],
   "metadata": {
    "collapsed": false
   }
  },
  {
   "cell_type": "markdown",
   "id": "49abe12e-3663-4959-a7b0-91c0809bc59a",
   "metadata": {},
   "source": [
    "Sort the learned weights (excluding the bias term). Which of the features is the most important one?"
   ]
  },
  {
   "cell_type": "code",
   "execution_count": 11,
   "id": "2572b5da-2042-449b-ad3e-ad66dce9d464",
   "metadata": {},
   "outputs": [
    {
     "data": {
      "text/plain": "                     w\nAge           1.072774\nSystolic_BP   0.676064\nCholesterol   0.563349\nbias          0.090254\nDiastolic_BP -0.014421",
      "text/html": "<div>\n<style scoped>\n    .dataframe tbody tr th:only-of-type {\n        vertical-align: middle;\n    }\n\n    .dataframe tbody tr th {\n        vertical-align: top;\n    }\n\n    .dataframe thead th {\n        text-align: right;\n    }\n</style>\n<table border=\"1\" class=\"dataframe\">\n  <thead>\n    <tr style=\"text-align: right;\">\n      <th></th>\n      <th>w</th>\n    </tr>\n  </thead>\n  <tbody>\n    <tr>\n      <th>Age</th>\n      <td>1.072774</td>\n    </tr>\n    <tr>\n      <th>Systolic_BP</th>\n      <td>0.676064</td>\n    </tr>\n    <tr>\n      <th>Cholesterol</th>\n      <td>0.563349</td>\n    </tr>\n    <tr>\n      <th>bias</th>\n      <td>0.090254</td>\n    </tr>\n    <tr>\n      <th>Diastolic_BP</th>\n      <td>-0.014421</td>\n    </tr>\n  </tbody>\n</table>\n</div>"
     },
     "execution_count": 11,
     "metadata": {},
     "output_type": "execute_result"
    }
   ],
   "source": [
    "# ------------------------ IMPLEMENT YOUR CODE HERE: ----------------------------------\n",
    "w=log_reg.w\n",
    "features =[\"bias\",'Age', 'Systolic_BP', 'Diastolic_BP', 'Cholesterol']\n",
    "w_df=pd.DataFrame(w,index=features).sort_values(by=0,ascending=False)\n",
    "w_df.columns=['w']\n",
    "w_df\n",
    "# --------------------------------------------------------------------------------------"
   ]
  },
  {
   "cell_type": "markdown",
   "source": [],
   "metadata": {
    "collapsed": false
   }
  },
  {
   "cell_type": "markdown",
   "source": [
    "## Age is the most important feature to our model - we can see that it has largest weight"
   ],
   "metadata": {
    "collapsed": false
   }
  },
  {
   "cell_type": "markdown",
   "id": "310bc770-5d4b-4c26-a0e8-1b128a789ceb",
   "metadata": {},
   "source": [
    "Report the performance on the \"correct dataset\" using *conf_matrix* function. The required metrics are: TN, FP, FN, TP, Se, Sp, PPV, NPV, Acc, F1 and AUC. You may use functions seen in the tutorial but notice that one of the metrics can and should be called from *log_reg* itself."
   ]
  },
  {
   "cell_type": "code",
   "execution_count": 12,
   "id": "7a8dc538-b49b-4f46-a119-73a4d8970ef0",
   "metadata": {},
   "outputs": [],
   "source": [
    "# ------------------------ IMPLEMENT YOUR CODE HERE: ----------------------------------\n",
    "calc_TN = lambda y_true, y_pred: log_reg.conf_matrix(X_test_scaled,y_test)[0, 0]\n",
    "calc_FP = lambda y_true, y_pred: log_reg.conf_matrix(X_test_scaled,y_test)[0, 1]\n",
    "calc_FN = lambda y_true, y_pred: log_reg.conf_matrix(X_test_scaled,y_test)[1, 0]\n",
    "calc_TP = lambda y_true, y_pred: log_reg.conf_matrix(X_test_scaled,y_test)[1, 1]\n",
    "def stats(y_test, y_pred_test):\n",
    "    TN = calc_TN(y_test, y_pred_test)\n",
    "    FP = calc_FP(y_test, y_pred_test)\n",
    "    FN = calc_FN(y_test, y_pred_test)\n",
    "    TP = calc_TP(y_test, y_pred_test)\n",
    "    Se = TP/(TP+FN)\n",
    "    Sp = TN/(TN+FP)\n",
    "    PPV = TP/(TP+FP)\n",
    "    NPV = TN/(TN+FN)\n",
    "    Acc = (TP+TN)/(TP+TN+FP+FN)\n",
    "    F1 = (2*Se*PPV)/(Se+PPV)\n",
    "    return TN, FP, FN, TP, Se, Sp, PPV, NPV, Acc, F1\n",
    "# --------------------------------------------------------------------------------------"
   ]
  },
  {
   "cell_type": "code",
   "execution_count": 13,
   "outputs": [
    {
     "name": "stdout",
     "output_type": "stream",
     "text": [
      "Sensitivity is 0.7305. \n",
      "Specificity is 0.7586. \n",
      "PPV is 0.7614. \n",
      "NPV is 0.7274. \n",
      "Accuracy is 0.7442. \n",
      "F1 is 0.7457. \n",
      "MCC is 0.4890.\n",
      "AUROC is 0.8145.\n"
     ]
    },
    {
     "data": {
      "text/plain": "{'TN': 443.0,\n 'FP': 141.0,\n 'FN': 166.0,\n 'TP': 450.0,\n 'Se': 0.7305,\n 'Sp': 0.7586,\n 'PPV': 0.7614,\n 'NPV': 0.7274}"
     },
     "execution_count": 13,
     "metadata": {},
     "output_type": "execute_result"
    }
   ],
   "source": [
    "[TN, FP, FN, TP, Se, Sp, PPV, NPV, Acc, F1] = stats(y_test,y_pred)\n",
    "metrics_values=stats(y_test,y_pred)\n",
    "print('Sensitivity is {:.4f}. \\nSpecificity is {:.4f}. \\nPPV is {:.4f}. \\nNPV is {:.4f}. \\nAccuracy is {:.4f}. \\nF1 is {:.4f}. '.format(Se,Sp,PPV,NPV,Acc,F1))\n",
    "mcc = ((TP * TN) - (FP * FN)) / np.sqrt((TP + FP) * (TP + FN) * (TN + FP) * (TN + FN))\n",
    "print('MCC is {:.4f}.'.format(mcc))\n",
    "print('AUROC is {:.4f}.'.format(roc_auc_score(y_test, y_pred_proba_test)))\n",
    "names = \"TN,FP,FN,TP,Se,Sp,PPV,NPV\"\n",
    "names = names.split(',')\n",
    "dict(zip(names,np.round(metrics_values,decimals=4)))"
   ],
   "metadata": {
    "collapsed": false
   }
  }
 ],
 "metadata": {
  "kernelspec": {
   "display_name": "Python 3 (ipykernel)",
   "language": "python",
   "name": "python3"
  },
  "language_info": {
   "codemirror_mode": {
    "name": "ipython",
    "version": 3
   },
   "file_extension": ".py",
   "mimetype": "text/x-python",
   "name": "python",
   "nbconvert_exporter": "python",
   "pygments_lexer": "ipython3",
   "version": "3.9.13"
  }
 },
 "nbformat": 4,
 "nbformat_minor": 5
}
